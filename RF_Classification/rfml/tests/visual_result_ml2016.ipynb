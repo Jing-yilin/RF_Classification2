{
 "cells": [
  {
   "cell_type": "code",
   "execution_count": 1,
   "metadata": {},
   "outputs": [
    {
     "name": "stdout",
     "output_type": "stream",
     "text": [
      "/Users/zephyr/Desktop/大四课程/Individual Project/03-Code/RF Signal Classification/RF_Classification/RF_Classification/rfml/tests\n"
     ]
    }
   ],
   "source": [
    "import pathlib\n",
    "import os\n",
    "\n",
    "pwd = pathlib.Path().absolute()\n",
    "print(pwd)\n",
    "\n",
    "rfml_dir = pwd.parent\n",
    "base_dir = rfml_dir.parent"
   ]
  },
  {
   "cell_type": "code",
   "execution_count": 2,
   "metadata": {},
   "outputs": [],
   "source": [
    "# add rfml_dir to path\n",
    "import sys\n",
    "sys.path.append(str(base_dir))"
   ]
  },
  {
   "cell_type": "code",
   "execution_count": null,
   "metadata": {},
   "outputs": [],
   "source": [
    "rf_1024_data_log_dir = base_dir / \"R_data_log\"\n",
    "train_csv = rf_1024_data_log_dir / \"train.csv\"\n",
    "valid_csv = rf_1024_data_log_dir / \"valid.csv\""
   ]
  }
 ],
 "metadata": {
  "kernelspec": {
   "display_name": "SignalClassification",
   "language": "python",
   "name": "python3"
  },
  "language_info": {
   "codemirror_mode": {
    "name": "ipython",
    "version": 3
   },
   "file_extension": ".py",
   "mimetype": "text/x-python",
   "name": "python",
   "nbconvert_exporter": "python",
   "pygments_lexer": "ipython3",
   "version": "3.11.6"
  }
 },
 "nbformat": 4,
 "nbformat_minor": 2
}
